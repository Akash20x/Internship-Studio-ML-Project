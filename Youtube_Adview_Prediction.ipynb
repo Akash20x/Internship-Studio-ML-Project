{
  "nbformat": 4,
  "nbformat_minor": 0,
  "metadata": {
    "colab": {
      "name": "Youtube Adview Prediction.ipynb",
      "provenance": [],
      "collapsed_sections": []
    },
    "kernelspec": {
      "name": "python3",
      "display_name": "Python 3"
    },
    "language_info": {
      "name": "python"
    }
  },
  "cells": [
    {
      "cell_type": "markdown",
      "metadata": {
        "id": "FO2Shk1X2-k8"
      },
      "source": [
        "# **Project : Youtube Adview Prediction**\n",
        "\n",
        "##**Internship Studio Machine Learning Internship**<br>\n",
        "\n",
        "###**By Akash Jain**<br>\n",
        "###***Email : akash982jain@gmail.com***<br>"
      ]
    },
    {
      "cell_type": "markdown",
      "metadata": {
        "id": "fj2gRxY0NL6q"
      },
      "source": [
        "## **Data Description**\n",
        "\n",
        "The file train.csv contains metrics and other details of about 15000 youtube\n",
        "videos. The metrics include number of views, likes, dislikes, comments and\n",
        "apart from that published date, duration and category are also included.\n",
        "The train.csv file also contains the metric number of adviews which is our\n",
        "target variable for prediction."
      ]
    },
    {
      "cell_type": "markdown",
      "metadata": {
        "id": "77bKu-88Nrw4"
      },
      "source": [
        "##**Data :**\n",
        "\n",
        "Use the below link to download the Data Set:<br>\n",
        "https://drive.google.com/file/d/1Dv-HF10AUUA03AO_cQvar462eXawk0iQ/view?usp=sharing"
      ]
    },
    {
      "cell_type": "markdown",
      "metadata": {
        "id": "nS-ooXh3PJDN"
      },
      "source": [
        "##**Context :**\n",
        "\n",
        "Youtube advertisers pay content creators based on adviews and clicks for the\n",
        "goods and services being marketed. They want to estimate the adview based\n",
        "on other metrics like comments, likes etc. The problem statement is therefore\n",
        "to train various regression models and choose the best one to predict the\n",
        "number of adviews. The data needs to be refined and cleaned before feeding\n",
        "in the algorithms for better results."
      ]
    },
    {
      "cell_type": "markdown",
      "metadata": {
        "id": "MSx-S3MaPROO"
      },
      "source": [
        "##**Attribute Information**\n",
        "\n",
        "'vidid' : Unique Identification ID for each video<br>\n",
        "'adview' : The number of adviews for each video<br>\n",
        "'views' : The number of unique views for each video<br>\n",
        "'likes' : The number of likes for each video<br>\n",
        "'dislikes' : The number of likes for each video<br>\n",
        "'comment' : The number of unique comments for each video<br>\n",
        "'published' : The data of uploading the video<br>\n",
        "'duration' : The duration of the video (in min. and seconds)<br>\n",
        "'category' : Category niche of each of the video"
      ]
    },
    {
      "cell_type": "markdown",
      "metadata": {
        "id": "2_vFsxw8PxUF"
      },
      "source": [
        "##**Objective**\n",
        "To build a machine learning regression to predict youtube adview count based\n",
        "on other youtube metrics."
      ]
    },
    {
      "cell_type": "markdown",
      "metadata": {
        "id": "PvwBgW7jP-va"
      },
      "source": [
        "##**Steps and Tasks**\n",
        "1. Import the datasets and libraries, check shape and datatype.\n",
        "2. Visualise the dataset using plotting using heatmaps and plots. You\n",
        "can study data distributions for each attribute as well.\n",
        "3. Clean the dataset by removing missing values and other things.\n",
        "4. Transform attributes into numerical values and other\n",
        "necessary transformations\n",
        "5. Normalise your data and split the data into training, validation and test\n",
        "set in the appropriate ratio.\n",
        "6. Use linear regression, Support Vector Regressor for training and get\n",
        "errors.\n",
        "7. Use Decision Tree Regressor and Random Forest Regressors.\n",
        "8. Build an artificial neural network and train it with different layers\n",
        "and hyperparameters. Experiment a little. Use keras.\n",
        "9. Pick the best model based on error as well as\n",
        "generalisation.\n",
        "10.Save your model and predict on the test set."
      ]
    },
    {
      "cell_type": "markdown",
      "metadata": {
        "id": "ITXMwGRm8EfI"
      },
      "source": [
        "- Download data: [Test.csv](https://internshipstudio.com/wp-content/uploads/2020/10/test.csv)\n",
        "- After training your best model, save it, and then use it for the prediction of ‘adview’ for the test.csv data.\n",
        "- Preprocess the test csv data similar to the way train csv data was preprocessed before using it for prediction.\n",
        "- After predicting ‘adview’ save the column in a predictions.csv file.\n",
        "- You have to keep all the code in one single ipynb file\n",
        "- Use this form to submit your Project: [Project Submission form](https://forms.gle/k5SgToKwvEf4e3to6)"
      ]
    },
    {
      "cell_type": "markdown",
      "metadata": {
        "id": "aNiH62ZcUjKs"
      },
      "source": [
        "<br><br>\n",
        "# **Training**"
      ]
    },
    {
      "cell_type": "code",
      "metadata": {
        "id": "u926NmK7LWDY"
      },
      "source": [
        "#Importing required libraries :\n",
        "\n",
        "import datetime\n",
        "import time\n",
        "# Data Loading and Numerical Operations\n",
        "import pandas as pd\n",
        "import numpy as np\n",
        "# Data Visualizations\n",
        "import matplotlib.pyplot as plt\n",
        "%matplotlib inline\n",
        "import seaborn as sns\n",
        "# Data Splitting\n",
        "from sklearn.model_selection import train_test_split\n",
        "# Data Scaling\n",
        "from sklearn.preprocessing import MinMaxScaler\n",
        "from sklearn.preprocessing import LabelEncoder\n",
        "# Data Modeling\n",
        "from sklearn import linear_model\n",
        "from sklearn.svm import SVR\n",
        "from sklearn.tree import DecisionTreeRegressor\n",
        "from sklearn.ensemble import RandomForestRegressor\n",
        "import keras\n",
        "from keras.layers import Dense\n",
        "from keras.models import load_model\n",
        "# Data Metrics\n",
        "from sklearn import metrics\n",
        "import joblib\n"
      ],
      "execution_count": 1,
      "outputs": []
    },
    {
      "cell_type": "code",
      "metadata": {
        "id": "8z4k6TZ3m6Zi"
      },
      "source": [
        "#Importing the trainig data from train.csv :\n",
        "path=\"/content/train.csv\"\n",
        "train_data = pd.read_csv(path)"
      ],
      "execution_count": 2,
      "outputs": []
    },
    {
      "cell_type": "code",
      "metadata": {
        "colab": {
          "base_uri": "https://localhost:8080/",
          "height": 203
        },
        "id": "zNLkyrHunHlg",
        "outputId": "a0dae980-8302-4281-cecd-8bd32b83d0e3"
      },
      "source": [
        "#Viewing 1st 5 rows of the Dataset :\n",
        "train_data.head()"
      ],
      "execution_count": 3,
      "outputs": [
        {
          "output_type": "execute_result",
          "data": {
            "text/html": [
              "<div>\n",
              "<style scoped>\n",
              "    .dataframe tbody tr th:only-of-type {\n",
              "        vertical-align: middle;\n",
              "    }\n",
              "\n",
              "    .dataframe tbody tr th {\n",
              "        vertical-align: top;\n",
              "    }\n",
              "\n",
              "    .dataframe thead th {\n",
              "        text-align: right;\n",
              "    }\n",
              "</style>\n",
              "<table border=\"1\" class=\"dataframe\">\n",
              "  <thead>\n",
              "    <tr style=\"text-align: right;\">\n",
              "      <th></th>\n",
              "      <th>vidid</th>\n",
              "      <th>adview</th>\n",
              "      <th>views</th>\n",
              "      <th>likes</th>\n",
              "      <th>dislikes</th>\n",
              "      <th>comment</th>\n",
              "      <th>published</th>\n",
              "      <th>duration</th>\n",
              "      <th>category</th>\n",
              "    </tr>\n",
              "  </thead>\n",
              "  <tbody>\n",
              "    <tr>\n",
              "      <th>0</th>\n",
              "      <td>VID_18655</td>\n",
              "      <td>40</td>\n",
              "      <td>1031602</td>\n",
              "      <td>8523</td>\n",
              "      <td>363</td>\n",
              "      <td>1095</td>\n",
              "      <td>2016-09-14</td>\n",
              "      <td>PT7M37S</td>\n",
              "      <td>F</td>\n",
              "    </tr>\n",
              "    <tr>\n",
              "      <th>1</th>\n",
              "      <td>VID_14135</td>\n",
              "      <td>2</td>\n",
              "      <td>1707</td>\n",
              "      <td>56</td>\n",
              "      <td>2</td>\n",
              "      <td>6</td>\n",
              "      <td>2016-10-01</td>\n",
              "      <td>PT9M30S</td>\n",
              "      <td>D</td>\n",
              "    </tr>\n",
              "    <tr>\n",
              "      <th>2</th>\n",
              "      <td>VID_2187</td>\n",
              "      <td>1</td>\n",
              "      <td>2023</td>\n",
              "      <td>25</td>\n",
              "      <td>0</td>\n",
              "      <td>2</td>\n",
              "      <td>2016-07-02</td>\n",
              "      <td>PT2M16S</td>\n",
              "      <td>C</td>\n",
              "    </tr>\n",
              "    <tr>\n",
              "      <th>3</th>\n",
              "      <td>VID_23096</td>\n",
              "      <td>6</td>\n",
              "      <td>620860</td>\n",
              "      <td>777</td>\n",
              "      <td>161</td>\n",
              "      <td>153</td>\n",
              "      <td>2016-07-27</td>\n",
              "      <td>PT4M22S</td>\n",
              "      <td>H</td>\n",
              "    </tr>\n",
              "    <tr>\n",
              "      <th>4</th>\n",
              "      <td>VID_10175</td>\n",
              "      <td>1</td>\n",
              "      <td>666</td>\n",
              "      <td>1</td>\n",
              "      <td>0</td>\n",
              "      <td>0</td>\n",
              "      <td>2016-06-29</td>\n",
              "      <td>PT31S</td>\n",
              "      <td>D</td>\n",
              "    </tr>\n",
              "  </tbody>\n",
              "</table>\n",
              "</div>"
            ],
            "text/plain": [
              "       vidid  adview    views likes  ... comment   published duration category\n",
              "0  VID_18655      40  1031602  8523  ...    1095  2016-09-14  PT7M37S        F\n",
              "1  VID_14135       2     1707    56  ...       6  2016-10-01  PT9M30S        D\n",
              "2   VID_2187       1     2023    25  ...       2  2016-07-02  PT2M16S        C\n",
              "3  VID_23096       6   620860   777  ...     153  2016-07-27  PT4M22S        H\n",
              "4  VID_10175       1      666     1  ...       0  2016-06-29    PT31S        D\n",
              "\n",
              "[5 rows x 9 columns]"
            ]
          },
          "metadata": {
            "tags": []
          },
          "execution_count": 3
        }
      ]
    },
    {
      "cell_type": "code",
      "metadata": {
        "colab": {
          "base_uri": "https://localhost:8080/"
        },
        "id": "qOLKseIWpeR6",
        "outputId": "60541e77-aba1-4b11-b479-91b7ceadba9d"
      },
      "source": [
        "#Checking the shape of the Dataset :\n",
        "train_data.shape"
      ],
      "execution_count": 4,
      "outputs": [
        {
          "output_type": "execute_result",
          "data": {
            "text/plain": [
              "(14999, 9)"
            ]
          },
          "metadata": {
            "tags": []
          },
          "execution_count": 4
        }
      ]
    },
    {
      "cell_type": "code",
      "metadata": {
        "colab": {
          "base_uri": "https://localhost:8080/",
          "height": 295
        },
        "id": "kGCQZtHZCIQW",
        "outputId": "bf970211-eece-4944-95c0-0bce4993590e"
      },
      "source": [
        "# Statistical description of data\n",
        "train_data.describe()"
      ],
      "execution_count": 5,
      "outputs": [
        {
          "output_type": "execute_result",
          "data": {
            "text/html": [
              "<div>\n",
              "<style scoped>\n",
              "    .dataframe tbody tr th:only-of-type {\n",
              "        vertical-align: middle;\n",
              "    }\n",
              "\n",
              "    .dataframe tbody tr th {\n",
              "        vertical-align: top;\n",
              "    }\n",
              "\n",
              "    .dataframe thead th {\n",
              "        text-align: right;\n",
              "    }\n",
              "</style>\n",
              "<table border=\"1\" class=\"dataframe\">\n",
              "  <thead>\n",
              "    <tr style=\"text-align: right;\">\n",
              "      <th></th>\n",
              "      <th>adview</th>\n",
              "    </tr>\n",
              "  </thead>\n",
              "  <tbody>\n",
              "    <tr>\n",
              "      <th>count</th>\n",
              "      <td>1.499900e+04</td>\n",
              "    </tr>\n",
              "    <tr>\n",
              "      <th>mean</th>\n",
              "      <td>2.107791e+03</td>\n",
              "    </tr>\n",
              "    <tr>\n",
              "      <th>std</th>\n",
              "      <td>5.237711e+04</td>\n",
              "    </tr>\n",
              "    <tr>\n",
              "      <th>min</th>\n",
              "      <td>1.000000e+00</td>\n",
              "    </tr>\n",
              "    <tr>\n",
              "      <th>25%</th>\n",
              "      <td>1.000000e+00</td>\n",
              "    </tr>\n",
              "    <tr>\n",
              "      <th>50%</th>\n",
              "      <td>2.000000e+00</td>\n",
              "    </tr>\n",
              "    <tr>\n",
              "      <th>75%</th>\n",
              "      <td>6.000000e+00</td>\n",
              "    </tr>\n",
              "    <tr>\n",
              "      <th>max</th>\n",
              "      <td>5.429665e+06</td>\n",
              "    </tr>\n",
              "  </tbody>\n",
              "</table>\n",
              "</div>"
            ],
            "text/plain": [
              "             adview\n",
              "count  1.499900e+04\n",
              "mean   2.107791e+03\n",
              "std    5.237711e+04\n",
              "min    1.000000e+00\n",
              "25%    1.000000e+00\n",
              "50%    2.000000e+00\n",
              "75%    6.000000e+00\n",
              "max    5.429665e+06"
            ]
          },
          "metadata": {
            "tags": []
          },
          "execution_count": 5
        }
      ]
    },
    {
      "cell_type": "code",
      "metadata": {
        "colab": {
          "base_uri": "https://localhost:8080/"
        },
        "id": "HW_EnGdFCUEv",
        "outputId": "9a1647f3-7a5c-4e92-c965-12ca619d9d52"
      },
      "source": [
        "# Check missing values and dtype\n",
        "train_data.info()"
      ],
      "execution_count": 6,
      "outputs": [
        {
          "output_type": "stream",
          "text": [
            "<class 'pandas.core.frame.DataFrame'>\n",
            "RangeIndex: 14999 entries, 0 to 14998\n",
            "Data columns (total 9 columns):\n",
            " #   Column     Non-Null Count  Dtype \n",
            "---  ------     --------------  ----- \n",
            " 0   vidid      14999 non-null  object\n",
            " 1   adview     14999 non-null  int64 \n",
            " 2   views      14999 non-null  object\n",
            " 3   likes      14999 non-null  object\n",
            " 4   dislikes   14999 non-null  object\n",
            " 5   comment    14999 non-null  object\n",
            " 6   published  14999 non-null  object\n",
            " 7   duration   14999 non-null  object\n",
            " 8   category   14999 non-null  object\n",
            "dtypes: int64(1), object(8)\n",
            "memory usage: 1.0+ MB\n"
          ],
          "name": "stdout"
        }
      ]
    },
    {
      "cell_type": "code",
      "metadata": {
        "colab": {
          "base_uri": "https://localhost:8080/"
        },
        "id": "YXZ2g-bJCdui",
        "outputId": "344ca749-6310-4e9b-9e5d-52f08dd6efc7"
      },
      "source": [
        "# Checking null values\n",
        "train_data.isnull().sum()"
      ],
      "execution_count": 7,
      "outputs": [
        {
          "output_type": "execute_result",
          "data": {
            "text/plain": [
              "vidid        0\n",
              "adview       0\n",
              "views        0\n",
              "likes        0\n",
              "dislikes     0\n",
              "comment      0\n",
              "published    0\n",
              "duration     0\n",
              "category     0\n",
              "dtype: int64"
            ]
          },
          "metadata": {
            "tags": []
          },
          "execution_count": 7
        }
      ]
    },
    {
      "cell_type": "code",
      "metadata": {
        "id": "DAWo2gXJhovn"
      },
      "source": [
        "#Removing videos with adview greater than 2000000 as outliers :\n",
        "train_data = train_data[train_data['adview'] < 2000000]"
      ],
      "execution_count": 8,
      "outputs": []
    },
    {
      "cell_type": "code",
      "metadata": {
        "colab": {
          "base_uri": "https://localhost:8080/"
        },
        "id": "7COreENkFZxa",
        "outputId": "8be004ad-ae09-42e1-a613-16e569e21868"
      },
      "source": [
        "train_data.shape"
      ],
      "execution_count": 9,
      "outputs": [
        {
          "output_type": "execute_result",
          "data": {
            "text/plain": [
              "(14998, 9)"
            ]
          },
          "metadata": {
            "tags": []
          },
          "execution_count": 9
        }
      ]
    },
    {
      "cell_type": "code",
      "metadata": {
        "id": "w214YXylFcab"
      },
      "source": [
        ""
      ],
      "execution_count": 9,
      "outputs": []
    },
    {
      "cell_type": "code",
      "metadata": {
        "colab": {
          "base_uri": "https://localhost:8080/",
          "height": 203
        },
        "id": "6JSYt6iN363t",
        "outputId": "e1836ee0-58fe-4c74-9a83-5a9b7dc406a9"
      },
      "source": [
        "#Assigning each category to a number for 'category' feature :\n",
        "category = {'A' : 1, 'B' : 2, 'C' : 3, 'D' : 4, 'E' : 5, 'F' : 6, 'G' : 7, 'H' : 8}\n",
        "train_data['category'] = train_data['category'].map(category)\n",
        "\n",
        "train_data.head()"
      ],
      "execution_count": 10,
      "outputs": [
        {
          "output_type": "execute_result",
          "data": {
            "text/html": [
              "<div>\n",
              "<style scoped>\n",
              "    .dataframe tbody tr th:only-of-type {\n",
              "        vertical-align: middle;\n",
              "    }\n",
              "\n",
              "    .dataframe tbody tr th {\n",
              "        vertical-align: top;\n",
              "    }\n",
              "\n",
              "    .dataframe thead th {\n",
              "        text-align: right;\n",
              "    }\n",
              "</style>\n",
              "<table border=\"1\" class=\"dataframe\">\n",
              "  <thead>\n",
              "    <tr style=\"text-align: right;\">\n",
              "      <th></th>\n",
              "      <th>vidid</th>\n",
              "      <th>adview</th>\n",
              "      <th>views</th>\n",
              "      <th>likes</th>\n",
              "      <th>dislikes</th>\n",
              "      <th>comment</th>\n",
              "      <th>published</th>\n",
              "      <th>duration</th>\n",
              "      <th>category</th>\n",
              "    </tr>\n",
              "  </thead>\n",
              "  <tbody>\n",
              "    <tr>\n",
              "      <th>0</th>\n",
              "      <td>VID_18655</td>\n",
              "      <td>40</td>\n",
              "      <td>1031602</td>\n",
              "      <td>8523</td>\n",
              "      <td>363</td>\n",
              "      <td>1095</td>\n",
              "      <td>2016-09-14</td>\n",
              "      <td>PT7M37S</td>\n",
              "      <td>6</td>\n",
              "    </tr>\n",
              "    <tr>\n",
              "      <th>1</th>\n",
              "      <td>VID_14135</td>\n",
              "      <td>2</td>\n",
              "      <td>1707</td>\n",
              "      <td>56</td>\n",
              "      <td>2</td>\n",
              "      <td>6</td>\n",
              "      <td>2016-10-01</td>\n",
              "      <td>PT9M30S</td>\n",
              "      <td>4</td>\n",
              "    </tr>\n",
              "    <tr>\n",
              "      <th>2</th>\n",
              "      <td>VID_2187</td>\n",
              "      <td>1</td>\n",
              "      <td>2023</td>\n",
              "      <td>25</td>\n",
              "      <td>0</td>\n",
              "      <td>2</td>\n",
              "      <td>2016-07-02</td>\n",
              "      <td>PT2M16S</td>\n",
              "      <td>3</td>\n",
              "    </tr>\n",
              "    <tr>\n",
              "      <th>3</th>\n",
              "      <td>VID_23096</td>\n",
              "      <td>6</td>\n",
              "      <td>620860</td>\n",
              "      <td>777</td>\n",
              "      <td>161</td>\n",
              "      <td>153</td>\n",
              "      <td>2016-07-27</td>\n",
              "      <td>PT4M22S</td>\n",
              "      <td>8</td>\n",
              "    </tr>\n",
              "    <tr>\n",
              "      <th>4</th>\n",
              "      <td>VID_10175</td>\n",
              "      <td>1</td>\n",
              "      <td>666</td>\n",
              "      <td>1</td>\n",
              "      <td>0</td>\n",
              "      <td>0</td>\n",
              "      <td>2016-06-29</td>\n",
              "      <td>PT31S</td>\n",
              "      <td>4</td>\n",
              "    </tr>\n",
              "  </tbody>\n",
              "</table>\n",
              "</div>"
            ],
            "text/plain": [
              "       vidid  adview    views likes  ... comment   published duration category\n",
              "0  VID_18655      40  1031602  8523  ...    1095  2016-09-14  PT7M37S        6\n",
              "1  VID_14135       2     1707    56  ...       6  2016-10-01  PT9M30S        4\n",
              "2   VID_2187       1     2023    25  ...       2  2016-07-02  PT2M16S        3\n",
              "3  VID_23096       6   620860   777  ...     153  2016-07-27  PT4M22S        8\n",
              "4  VID_10175       1      666     1  ...       0  2016-06-29    PT31S        4\n",
              "\n",
              "[5 rows x 9 columns]"
            ]
          },
          "metadata": {
            "tags": []
          },
          "execution_count": 10
        }
      ]
    },
    {
      "cell_type": "code",
      "metadata": {
        "colab": {
          "base_uri": "https://localhost:8080/"
        },
        "id": "IE-aM1lZ3If_",
        "outputId": "e20f61ff-ee00-4e6e-8370-56d39fdc6516"
      },
      "source": [
        "#Removing the character 'F' present in the data :\n",
        "train_data = train_data[train_data.views != 'F']\n",
        "train_data = train_data[train_data.likes != 'F']\n",
        "train_data = train_data[train_data.dislikes != 'F']\n",
        "train_data = train_data[train_data.comment != 'F']\n",
        "\n",
        "train_data.shape"
      ],
      "execution_count": 11,
      "outputs": [
        {
          "output_type": "execute_result",
          "data": {
            "text/plain": [
              "(14636, 9)"
            ]
          },
          "metadata": {
            "tags": []
          },
          "execution_count": 11
        }
      ]
    },
    {
      "cell_type": "code",
      "metadata": {
        "colab": {
          "base_uri": "https://localhost:8080/"
        },
        "id": "iRbjDIL45O7R",
        "outputId": "dff29324-8bf7-4c27-9cb3-8cc6288eb9dd"
      },
      "source": [
        "#Converting values to integers for views, likes, comments, dislkes and adview :\n",
        "train_data['views'] = pd.to_numeric(train_data['views'])\n",
        "train_data['likes'] = pd.to_numeric(train_data['likes'])\n",
        "train_data['dislikes'] = pd.to_numeric(train_data['dislikes'])\n",
        "train_data['comment'] = pd.to_numeric(train_data['comment'])\n",
        "train_data['adview'] = pd.to_numeric(train_data['adview'])\n",
        "\n",
        "#Extracting the 'vidid' column from train_data and storing in vidid_column :\n",
        "vidid_column = train_data['vidid']\n",
        "vidid_column"
      ],
      "execution_count": 12,
      "outputs": [
        {
          "output_type": "execute_result",
          "data": {
            "text/plain": [
              "0        VID_18655\n",
              "1        VID_14135\n",
              "2         VID_2187\n",
              "3        VID_23096\n",
              "4        VID_10175\n",
              "           ...    \n",
              "14994       VID_31\n",
              "14995     VID_5861\n",
              "14996      VID_805\n",
              "14997    VID_19843\n",
              "14998     VID_8534\n",
              "Name: vidid, Length: 14636, dtype: object"
            ]
          },
          "metadata": {
            "tags": []
          },
          "execution_count": 12
        }
      ]
    },
    {
      "cell_type": "code",
      "metadata": {
        "colab": {
          "base_uri": "https://localhost:8080/",
          "height": 203
        },
        "id": "-O1LBTwO6jOd",
        "outputId": "caa7cd5d-d7c1-4f56-c321-e8adfb531ad2"
      },
      "source": [
        "#Encoding features like 'published', 'duration' and 'vidid' :\n",
        "train_data['duration'] = LabelEncoder().fit_transform(train_data['duration'])\n",
        "train_data['published'] = LabelEncoder().fit_transform(train_data['published'])\n",
        "train_data['vidid'] = LabelEncoder().fit_transform(train_data['vidid'])\n",
        "train_data.head()"
      ],
      "execution_count": 13,
      "outputs": [
        {
          "output_type": "execute_result",
          "data": {
            "text/html": [
              "<div>\n",
              "<style scoped>\n",
              "    .dataframe tbody tr th:only-of-type {\n",
              "        vertical-align: middle;\n",
              "    }\n",
              "\n",
              "    .dataframe tbody tr th {\n",
              "        vertical-align: top;\n",
              "    }\n",
              "\n",
              "    .dataframe thead th {\n",
              "        text-align: right;\n",
              "    }\n",
              "</style>\n",
              "<table border=\"1\" class=\"dataframe\">\n",
              "  <thead>\n",
              "    <tr style=\"text-align: right;\">\n",
              "      <th></th>\n",
              "      <th>vidid</th>\n",
              "      <th>adview</th>\n",
              "      <th>views</th>\n",
              "      <th>likes</th>\n",
              "      <th>dislikes</th>\n",
              "      <th>comment</th>\n",
              "      <th>published</th>\n",
              "      <th>duration</th>\n",
              "      <th>category</th>\n",
              "    </tr>\n",
              "  </thead>\n",
              "  <tbody>\n",
              "    <tr>\n",
              "      <th>0</th>\n",
              "      <td>5912</td>\n",
              "      <td>40</td>\n",
              "      <td>1031602</td>\n",
              "      <td>8523</td>\n",
              "      <td>363</td>\n",
              "      <td>1095</td>\n",
              "      <td>2168</td>\n",
              "      <td>2925</td>\n",
              "      <td>6</td>\n",
              "    </tr>\n",
              "    <tr>\n",
              "      <th>1</th>\n",
              "      <td>2741</td>\n",
              "      <td>2</td>\n",
              "      <td>1707</td>\n",
              "      <td>56</td>\n",
              "      <td>2</td>\n",
              "      <td>6</td>\n",
              "      <td>2185</td>\n",
              "      <td>3040</td>\n",
              "      <td>4</td>\n",
              "    </tr>\n",
              "    <tr>\n",
              "      <th>2</th>\n",
              "      <td>8138</td>\n",
              "      <td>1</td>\n",
              "      <td>2023</td>\n",
              "      <td>25</td>\n",
              "      <td>0</td>\n",
              "      <td>2</td>\n",
              "      <td>2094</td>\n",
              "      <td>1863</td>\n",
              "      <td>3</td>\n",
              "    </tr>\n",
              "    <tr>\n",
              "      <th>3</th>\n",
              "      <td>9004</td>\n",
              "      <td>6</td>\n",
              "      <td>620860</td>\n",
              "      <td>777</td>\n",
              "      <td>161</td>\n",
              "      <td>153</td>\n",
              "      <td>2119</td>\n",
              "      <td>2546</td>\n",
              "      <td>8</td>\n",
              "    </tr>\n",
              "    <tr>\n",
              "      <th>4</th>\n",
              "      <td>122</td>\n",
              "      <td>1</td>\n",
              "      <td>666</td>\n",
              "      <td>1</td>\n",
              "      <td>0</td>\n",
              "      <td>0</td>\n",
              "      <td>2091</td>\n",
              "      <td>1963</td>\n",
              "      <td>4</td>\n",
              "    </tr>\n",
              "  </tbody>\n",
              "</table>\n",
              "</div>"
            ],
            "text/plain": [
              "   vidid  adview    views  likes  ...  comment  published  duration  category\n",
              "0   5912      40  1031602   8523  ...     1095       2168      2925         6\n",
              "1   2741       2     1707     56  ...        6       2185      3040         4\n",
              "2   8138       1     2023     25  ...        2       2094      1863         3\n",
              "3   9004       6   620860    777  ...      153       2119      2546         8\n",
              "4    122       1      666      1  ...        0       2091      1963         4\n",
              "\n",
              "[5 rows x 9 columns]"
            ]
          },
          "metadata": {
            "tags": []
          },
          "execution_count": 13
        }
      ]
    },
    {
      "cell_type": "code",
      "metadata": {
        "colab": {
          "base_uri": "https://localhost:8080/",
          "height": 203
        },
        "id": "UVLYC0Hg-bci",
        "outputId": "8ba50449-47a4-4889-baa2-6926a393450b"
      },
      "source": [
        "#Defining a function to convert time to seconds under 'duration' column :\n",
        "\n",
        "def checki(x):\n",
        "  y = x[2:]\n",
        "  h = ''\n",
        "  m = ''\n",
        "  s = ''\n",
        "  mm = ''\n",
        "  P = ['H', 'M', 'S']\n",
        "  for i in y:\n",
        "    if i not in P:\n",
        "      mm += i\n",
        "    else:\n",
        "      if i == 'H':\n",
        "        h = mm\n",
        "        mm = ''\n",
        "      elif i == 'M':\n",
        "        m = mm\n",
        "        mm = ''\n",
        "      else:\n",
        "        s = mm\n",
        "        mm = ''\n",
        "  \n",
        "  if h == '':\n",
        "    h = '00'\n",
        "  if m == '':\n",
        "    m = '00'\n",
        "  if s == '':\n",
        "    s = '00'\n",
        "  bp = h + ':' + m + ':' + s \n",
        "  return bp\n",
        "\n",
        "\n",
        "train = pd.read_csv('train.csv')\n",
        "mp = pd.read_csv(path)['duration']\n",
        "time = mp.apply(checki)\n",
        "\n",
        "def func_sec(time_string):\n",
        "  h, m, s = time_string.split(':')\n",
        "  return (int)(h) * 3600 + (int)(m) * 60 + (int)(s)\n",
        "\n",
        "time1 = time.apply(func_sec)\n",
        "\n",
        "train_data['duration'] = time1\n",
        "train_data.head()"
      ],
      "execution_count": 14,
      "outputs": [
        {
          "output_type": "execute_result",
          "data": {
            "text/html": [
              "<div>\n",
              "<style scoped>\n",
              "    .dataframe tbody tr th:only-of-type {\n",
              "        vertical-align: middle;\n",
              "    }\n",
              "\n",
              "    .dataframe tbody tr th {\n",
              "        vertical-align: top;\n",
              "    }\n",
              "\n",
              "    .dataframe thead th {\n",
              "        text-align: right;\n",
              "    }\n",
              "</style>\n",
              "<table border=\"1\" class=\"dataframe\">\n",
              "  <thead>\n",
              "    <tr style=\"text-align: right;\">\n",
              "      <th></th>\n",
              "      <th>vidid</th>\n",
              "      <th>adview</th>\n",
              "      <th>views</th>\n",
              "      <th>likes</th>\n",
              "      <th>dislikes</th>\n",
              "      <th>comment</th>\n",
              "      <th>published</th>\n",
              "      <th>duration</th>\n",
              "      <th>category</th>\n",
              "    </tr>\n",
              "  </thead>\n",
              "  <tbody>\n",
              "    <tr>\n",
              "      <th>0</th>\n",
              "      <td>5912</td>\n",
              "      <td>40</td>\n",
              "      <td>1031602</td>\n",
              "      <td>8523</td>\n",
              "      <td>363</td>\n",
              "      <td>1095</td>\n",
              "      <td>2168</td>\n",
              "      <td>457</td>\n",
              "      <td>6</td>\n",
              "    </tr>\n",
              "    <tr>\n",
              "      <th>1</th>\n",
              "      <td>2741</td>\n",
              "      <td>2</td>\n",
              "      <td>1707</td>\n",
              "      <td>56</td>\n",
              "      <td>2</td>\n",
              "      <td>6</td>\n",
              "      <td>2185</td>\n",
              "      <td>570</td>\n",
              "      <td>4</td>\n",
              "    </tr>\n",
              "    <tr>\n",
              "      <th>2</th>\n",
              "      <td>8138</td>\n",
              "      <td>1</td>\n",
              "      <td>2023</td>\n",
              "      <td>25</td>\n",
              "      <td>0</td>\n",
              "      <td>2</td>\n",
              "      <td>2094</td>\n",
              "      <td>136</td>\n",
              "      <td>3</td>\n",
              "    </tr>\n",
              "    <tr>\n",
              "      <th>3</th>\n",
              "      <td>9004</td>\n",
              "      <td>6</td>\n",
              "      <td>620860</td>\n",
              "      <td>777</td>\n",
              "      <td>161</td>\n",
              "      <td>153</td>\n",
              "      <td>2119</td>\n",
              "      <td>262</td>\n",
              "      <td>8</td>\n",
              "    </tr>\n",
              "    <tr>\n",
              "      <th>4</th>\n",
              "      <td>122</td>\n",
              "      <td>1</td>\n",
              "      <td>666</td>\n",
              "      <td>1</td>\n",
              "      <td>0</td>\n",
              "      <td>0</td>\n",
              "      <td>2091</td>\n",
              "      <td>31</td>\n",
              "      <td>4</td>\n",
              "    </tr>\n",
              "  </tbody>\n",
              "</table>\n",
              "</div>"
            ],
            "text/plain": [
              "   vidid  adview    views  likes  ...  comment  published  duration  category\n",
              "0   5912      40  1031602   8523  ...     1095       2168       457         6\n",
              "1   2741       2     1707     56  ...        6       2185       570         4\n",
              "2   8138       1     2023     25  ...        2       2094       136         3\n",
              "3   9004       6   620860    777  ...      153       2119       262         8\n",
              "4    122       1      666      1  ...        0       2091        31         4\n",
              "\n",
              "[5 rows x 9 columns]"
            ]
          },
          "metadata": {
            "tags": []
          },
          "execution_count": 14
        }
      ]
    },
    {
      "cell_type": "code",
      "metadata": {
        "colab": {
          "base_uri": "https://localhost:8080/",
          "height": 524
        },
        "id": "mflIjhqadc7k",
        "outputId": "ccbefe4a-d128-4d67-ce73-8ead9cefb511"
      },
      "source": [
        "#Visualization of Individual Plots :\n",
        "plt.hist(train_data['category'])\n",
        "plt.show()\n",
        "plt.plot(train_data['adview'])\n",
        "plt.show()"
      ],
      "execution_count": 15,
      "outputs": [
        {
          "output_type": "display_data",
          "data": {
            "image/png": "[encoded data removed]",
            "text/plain": [
              "<Figure size 432x288 with 1 Axes>"
            ]
          },
          "metadata": {
            "tags": [],
            "needs_background": "light"
          }
        },
        {
          "output_type": "display_data",
          "data": {
            "image/png": "[encoded data removed]",
            "text/plain": [
              "<Figure size 432x288 with 1 Axes>"
            ]
          },
          "metadata": {
            "tags": [],
            "needs_background": "light"
          }
        }
      ]
    },
    {
      "cell_type": "code",
      "metadata": {
        "colab": {
          "base_uri": "https://localhost:8080/",
          "height": 487
        },
        "id": "pDY_oJwYh3vU",
        "outputId": "07c5e7b9-6e10-4a8d-9bc5-e49c4b20af40"
      },
      "source": [
        "#Visualizing in HeatMap:\n",
        "\n",
        "f, ax = plt.subplots(figsize = (10,8))\n",
        "corr = train_data.corr()\n",
        "sns.heatmap(corr, mask = np.zeros_like(corr, dtype = np.bool), cmap = sns.diverging_palette(220, 10, as_cmap = True), square = True, ax = ax, annot = True)\n",
        "plt.show()"
      ],
      "execution_count": 16,
      "outputs": [
        {
          "output_type": "display_data",
          "data": {
            "image/png": "[encoded data removed]",
            "text/plain": [
              "<Figure size 720x576 with 2 Axes>"
            ]
          },
          "metadata": {
            "tags": [],
            "needs_background": "light"
          }
        }
      ]
    },
    {
      "cell_type": "code",
      "metadata": {
        "colab": {
          "base_uri": "https://localhost:8080/",
          "height": 203
        },
        "id": "FCHMCuhEV5ym",
        "outputId": "a92dbcd7-1b92-4264-966f-b051c2451135"
      },
      "source": [
        "#Splitting Data :\n",
        "Y_train = pd.DataFrame(data = train_data.iloc[:,1].values, columns = ['target'])\n",
        "train_data = train_data.drop(['adview'], axis = 1)\n",
        "train_data = train_data.drop(['vidid'], axis = 1)\n",
        "train_data.head()"
      ],
      "execution_count": 17,
      "outputs": [
        {
          "output_type": "execute_result",
          "data": {
            "text/html": [
              "<div>\n",
              "<style scoped>\n",
              "    .dataframe tbody tr th:only-of-type {\n",
              "        vertical-align: middle;\n",
              "    }\n",
              "\n",
              "    .dataframe tbody tr th {\n",
              "        vertical-align: top;\n",
              "    }\n",
              "\n",
              "    .dataframe thead th {\n",
              "        text-align: right;\n",
              "    }\n",
              "</style>\n",
              "<table border=\"1\" class=\"dataframe\">\n",
              "  <thead>\n",
              "    <tr style=\"text-align: right;\">\n",
              "      <th></th>\n",
              "      <th>views</th>\n",
              "      <th>likes</th>\n",
              "      <th>dislikes</th>\n",
              "      <th>comment</th>\n",
              "      <th>published</th>\n",
              "      <th>duration</th>\n",
              "      <th>category</th>\n",
              "    </tr>\n",
              "  </thead>\n",
              "  <tbody>\n",
              "    <tr>\n",
              "      <th>0</th>\n",
              "      <td>1031602</td>\n",
              "      <td>8523</td>\n",
              "      <td>363</td>\n",
              "      <td>1095</td>\n",
              "      <td>2168</td>\n",
              "      <td>457</td>\n",
              "      <td>6</td>\n",
              "    </tr>\n",
              "    <tr>\n",
              "      <th>1</th>\n",
              "      <td>1707</td>\n",
              "      <td>56</td>\n",
              "      <td>2</td>\n",
              "      <td>6</td>\n",
              "      <td>2185</td>\n",
              "      <td>570</td>\n",
              "      <td>4</td>\n",
              "    </tr>\n",
              "    <tr>\n",
              "      <th>2</th>\n",
              "      <td>2023</td>\n",
              "      <td>25</td>\n",
              "      <td>0</td>\n",
              "      <td>2</td>\n",
              "      <td>2094</td>\n",
              "      <td>136</td>\n",
              "      <td>3</td>\n",
              "    </tr>\n",
              "    <tr>\n",
              "      <th>3</th>\n",
              "      <td>620860</td>\n",
              "      <td>777</td>\n",
              "      <td>161</td>\n",
              "      <td>153</td>\n",
              "      <td>2119</td>\n",
              "      <td>262</td>\n",
              "      <td>8</td>\n",
              "    </tr>\n",
              "    <tr>\n",
              "      <th>4</th>\n",
              "      <td>666</td>\n",
              "      <td>1</td>\n",
              "      <td>0</td>\n",
              "      <td>0</td>\n",
              "      <td>2091</td>\n",
              "      <td>31</td>\n",
              "      <td>4</td>\n",
              "    </tr>\n",
              "  </tbody>\n",
              "</table>\n",
              "</div>"
            ],
            "text/plain": [
              "     views  likes  dislikes  comment  published  duration  category\n",
              "0  1031602   8523       363     1095       2168       457         6\n",
              "1     1707     56         2        6       2185       570         4\n",
              "2     2023     25         0        2       2094       136         3\n",
              "3   620860    777       161      153       2119       262         8\n",
              "4      666      1         0        0       2091        31         4"
            ]
          },
          "metadata": {
            "tags": []
          },
          "execution_count": 17
        }
      ]
    },
    {
      "cell_type": "code",
      "metadata": {
        "colab": {
          "base_uri": "https://localhost:8080/"
        },
        "id": "dmAyyYbYWtZf",
        "outputId": "261e3824-b093-4e55-dea7-61e4fc0ca387"
      },
      "source": [
        "X_train, X_test, Y_train, Y_test = train_test_split(train_data, Y_train, test_size = 0.2, random_state = 42) \n",
        "\n",
        "print(X_train.shape)\n",
        "print(X_test.shape)\n",
        "print(Y_train.shape)\n",
        "print(Y_test.shape)"
      ],
      "execution_count": 18,
      "outputs": [
        {
          "output_type": "stream",
          "text": [
            "(11708, 7)\n",
            "(2928, 7)\n",
            "(11708, 1)\n",
            "(2928, 1)\n"
          ],
          "name": "stdout"
        }
      ]
    },
    {
      "cell_type": "code",
      "metadata": {
        "colab": {
          "base_uri": "https://localhost:8080/"
        },
        "id": "ov7lL-fOX-Mh",
        "outputId": "8cdaaf21-aca5-40da-a35e-448557a67ded"
      },
      "source": [
        "#Normalising Data :\n",
        "scaler = MinMaxScaler()\n",
        "X_train = scaler.fit_transform(X_train)\n",
        "X_test = scaler.fit_transform(X_test)\n",
        "\n",
        "print(X_train.mean())\n",
        "print(X_test.mean())"
      ],
      "execution_count": 19,
      "outputs": [
        {
          "output_type": "stream",
          "text": [
            "0.1739096800320488\n",
            "0.17614792076344343\n"
          ],
          "name": "stdout"
        }
      ]
    },
    {
      "cell_type": "code",
      "metadata": {
        "id": "RUuSNqDJCsgm"
      },
      "source": [
        "#Evaluation Metrics :\n",
        "def print_error(X_test, Y_test, model_name):\n",
        "  prediction = model_name.predict(X_test)\n",
        "  print('Mean Absolute Error : ', metrics.mean_absolute_error(Y_test, prediction))\n",
        "  print('Mean Squared Error : ', metrics.mean_squared_error(Y_test, prediction))\n",
        "  print('Root Mean Squared Error : ', np.sqrt(metrics.mean_squared_error(Y_test, prediction)))"
      ],
      "execution_count": 20,
      "outputs": []
    },
    {
      "cell_type": "code",
      "metadata": {
        "colab": {
          "base_uri": "https://localhost:8080/"
        },
        "id": "ZSEgHvqyEPMy",
        "outputId": "6b2a4994-49ee-4e63-ad8a-8526ec6df311"
      },
      "source": [
        "#Linear Regressor :\n",
        "linear_regression = linear_model.LinearRegression()\n",
        "linear_regression.fit(X_train, Y_train)\n",
        "print_error(X_test, Y_test, linear_regression)"
      ],
      "execution_count": 21,
      "outputs": [
        {
          "output_type": "stream",
          "text": [
            "Mean Absolute Error :  3707.378005824532\n",
            "Mean Squared Error :  835663131.1210337\n",
            "Root Mean Squared Error :  28907.83857573986\n"
          ],
          "name": "stdout"
        }
      ]
    },
    {
      "cell_type": "code",
      "metadata": {
        "colab": {
          "base_uri": "https://localhost:8080/"
        },
        "id": "zWZ0USNLHCWy",
        "outputId": "fcd44005-4e64-4988-a507-8ebdb94212bf"
      },
      "source": [
        "#Support Vector Regressor(SVR) :\n",
        "supportvector_regressor = SVR()\n",
        "supportvector_regressor.fit(X_train, Y_train)\n",
        "print_error(X_test, Y_test, supportvector_regressor)"
      ],
      "execution_count": 22,
      "outputs": [
        {
          "output_type": "stream",
          "text": [
            "/usr/local/lib/python3.7/dist-packages/sklearn/utils/validation.py:760: DataConversionWarning: A column-vector y was passed when a 1d array was expected. Please change the shape of y to (n_samples, ), for example using ravel().\n",
            "  y = column_or_1d(y, warn=True)\n"
          ],
          "name": "stderr"
        },
        {
          "output_type": "stream",
          "text": [
            "Mean Absolute Error :  1696.9438599505638\n",
            "Mean Squared Error :  833685776.029172\n",
            "Root Mean Squared Error :  28873.617300732723\n"
          ],
          "name": "stdout"
        }
      ]
    },
    {
      "cell_type": "code",
      "metadata": {
        "colab": {
          "base_uri": "https://localhost:8080/"
        },
        "id": "JdLcCBQJLNze",
        "outputId": "f7e83e33-32ac-4d36-b9c0-ec0b5036a735"
      },
      "source": [
        "#Decision Tree Regressor :\n",
        "decision_tree = DecisionTreeRegressor()\n",
        "decision_tree.fit(X_train, Y_train)\n",
        "print_error(X_test, Y_test, decision_tree)"
      ],
      "execution_count": 23,
      "outputs": [
        {
          "output_type": "stream",
          "text": [
            "Mean Absolute Error :  2617.7438524590166\n",
            "Mean Squared Error :  888806872.4692622\n",
            "Root Mean Squared Error :  29812.86421109623\n"
          ],
          "name": "stdout"
        }
      ]
    },
    {
      "cell_type": "code",
      "metadata": {
        "colab": {
          "base_uri": "https://localhost:8080/"
        },
        "id": "myutZV02LZ4s",
        "outputId": "9a81c3b6-c983-4a32-e30d-c179f03df88d"
      },
      "source": [
        "#Random Forest Regressor :\n",
        "n_estimators = 200\n",
        "max_depth = 25\n",
        "min_samples_split = 15\n",
        "min_samples_leaf = 2\n",
        "random_forest = RandomForestRegressor(n_estimators = n_estimators, max_depth = max_depth, min_samples_split = min_samples_split, min_samples_leaf = min_samples_leaf)\n",
        "random_forest.fit(X_train, Y_train)\n",
        "print_error(X_test, Y_test, random_forest)"
      ],
      "execution_count": 24,
      "outputs": [
        {
          "output_type": "stream",
          "text": [
            "/usr/local/lib/python3.7/dist-packages/ipykernel_launcher.py:7: DataConversionWarning: A column-vector y was passed when a 1d array was expected. Please change the shape of y to (n_samples,), for example using ravel().\n",
            "  import sys\n"
          ],
          "name": "stderr"
        },
        {
          "output_type": "stream",
          "text": [
            "Mean Absolute Error :  3414.684608337745\n",
            "Mean Squared Error :  769704283.0591279\n",
            "Root Mean Squared Error :  27743.544889922196\n"
          ],
          "name": "stdout"
        }
      ]
    },
    {
      "cell_type": "code",
      "metadata": {
        "colab": {
          "base_uri": "https://localhost:8080/"
        },
        "id": "knmjAvsqObYl",
        "outputId": "468ce972-8e3f-4053-f1ae-328c43e76e2e"
      },
      "source": [
        "#Creating Artificial Neural Network :\n",
        "ann = keras.models.Sequential([Dense(6, activation = 'relu', input_shape = X_train.shape[1:]), Dense(6, activation = 'relu'), Dense(1)])\n",
        "optimizer = keras.optimizers.Adam()\n",
        "loss = keras.losses.mean_squared_error\n",
        "ann.compile(optimizer = optimizer, loss = loss, metrics = ['mean_squared_error'])\n",
        "history = ann.fit(X_train, Y_train, epochs = 100)\n",
        "ann.summary()\n",
        "print_error(X_test, Y_test, ann)"
      ],
      "execution_count": 25,
      "outputs": [
        {
          "output_type": "stream",
          "text": [
            "Epoch 1/100\n",
            "366/366 [==============================] - 16s 1ms/step - loss: 456123898.2425 - mean_squared_error: 456123898.2425\n",
            "Epoch 2/100\n",
            "366/366 [==============================] - 1s 1ms/step - loss: 456325027.1395 - mean_squared_error: 456325027.1395\n",
            "Epoch 3/100\n",
            "366/366 [==============================] - 0s 1ms/step - loss: 608648385.8200 - mean_squared_error: 608648385.8200\n",
            "Epoch 4/100\n",
            "366/366 [==============================] - 0s 1ms/step - loss: 659823505.7875 - mean_squared_error: 659823505.7875\n",
            "Epoch 5/100\n",
            "366/366 [==============================] - 1s 1ms/step - loss: 981151168.6328 - mean_squared_error: 981151168.6328\n",
            "Epoch 6/100\n",
            "366/366 [==============================] - 1s 1ms/step - loss: 762329387.8283 - mean_squared_error: 762329387.8283\n",
            "Epoch 7/100\n",
            "366/366 [==============================] - 1s 1ms/step - loss: 1112861936.9193 - mean_squared_error: 1112861936.9193\n",
            "Epoch 8/100\n",
            "366/366 [==============================] - 1s 1ms/step - loss: 638725005.1454 - mean_squared_error: 638725005.1454\n",
            "Epoch 9/100\n",
            "366/366 [==============================] - 0s 1ms/step - loss: 1350890650.2657 - mean_squared_error: 1350890650.2657\n",
            "Epoch 10/100\n",
            "366/366 [==============================] - 0s 1ms/step - loss: 649647826.8571 - mean_squared_error: 649647826.8571\n",
            "Epoch 11/100\n",
            "366/366 [==============================] - 0s 1ms/step - loss: 1188826319.1348 - mean_squared_error: 1188826319.1348\n",
            "Epoch 12/100\n",
            "366/366 [==============================] - 0s 1ms/step - loss: 592417803.2861 - mean_squared_error: 592417803.2861\n",
            "Epoch 13/100\n",
            "366/366 [==============================] - 1s 1ms/step - loss: 1437185813.3225 - mean_squared_error: 1437185813.3225\n",
            "Epoch 14/100\n",
            "366/366 [==============================] - 0s 1ms/step - loss: 478876748.5575 - mean_squared_error: 478876748.5575\n",
            "Epoch 15/100\n",
            "366/366 [==============================] - 0s 1ms/step - loss: 582783583.5749 - mean_squared_error: 582783583.5749\n",
            "Epoch 16/100\n",
            "366/366 [==============================] - 0s 1ms/step - loss: 1760052646.5395 - mean_squared_error: 1760052646.5395\n",
            "Epoch 17/100\n",
            "366/366 [==============================] - 0s 1ms/step - loss: 448273930.2016 - mean_squared_error: 448273930.2016\n",
            "Epoch 18/100\n",
            "366/366 [==============================] - 1s 1ms/step - loss: 691480682.7868 - mean_squared_error: 691480682.7868\n",
            "Epoch 19/100\n",
            "366/366 [==============================] - 0s 1ms/step - loss: 600879643.8616 - mean_squared_error: 600879643.8616\n",
            "Epoch 20/100\n",
            "366/366 [==============================] - 0s 1ms/step - loss: 452033731.3134 - mean_squared_error: 452033731.3134\n",
            "Epoch 21/100\n",
            "366/366 [==============================] - 1s 1ms/step - loss: 562400377.4068 - mean_squared_error: 562400377.4068\n",
            "Epoch 22/100\n",
            "366/366 [==============================] - 0s 1ms/step - loss: 771758920.3270 - mean_squared_error: 771758920.3270\n",
            "Epoch 23/100\n",
            "366/366 [==============================] - 0s 1ms/step - loss: 551284405.4496 - mean_squared_error: 551284405.4496\n",
            "Epoch 24/100\n",
            "366/366 [==============================] - 0s 1ms/step - loss: 816344797.4700 - mean_squared_error: 816344797.4700\n",
            "Epoch 25/100\n",
            "366/366 [==============================] - 0s 1ms/step - loss: 479599238.7112 - mean_squared_error: 479599238.7112\n",
            "Epoch 26/100\n",
            "366/366 [==============================] - 0s 1ms/step - loss: 962028732.5051 - mean_squared_error: 962028732.5051\n",
            "Epoch 27/100\n",
            "366/366 [==============================] - 0s 1ms/step - loss: 1259742208.6975 - mean_squared_error: 1259742208.6975\n",
            "Epoch 28/100\n",
            "366/366 [==============================] - 0s 1ms/step - loss: 863275065.7221 - mean_squared_error: 863275065.7221\n",
            "Epoch 29/100\n",
            "366/366 [==============================] - 1s 1ms/step - loss: 999653352.5935 - mean_squared_error: 999653352.5935\n",
            "Epoch 30/100\n",
            "366/366 [==============================] - 0s 1ms/step - loss: 458281376.6866 - mean_squared_error: 458281376.6866\n",
            "Epoch 31/100\n",
            "366/366 [==============================] - 0s 1ms/step - loss: 500438961.7003 - mean_squared_error: 500438961.7003\n",
            "Epoch 32/100\n",
            "366/366 [==============================] - 0s 1ms/step - loss: 898916391.7153 - mean_squared_error: 898916391.7153\n",
            "Epoch 33/100\n",
            "366/366 [==============================] - 0s 1ms/step - loss: 1483560354.4414 - mean_squared_error: 1483560354.4414\n",
            "Epoch 34/100\n",
            "366/366 [==============================] - 0s 1ms/step - loss: 680694700.4506 - mean_squared_error: 680694700.4506\n",
            "Epoch 35/100\n",
            "366/366 [==============================] - 1s 1ms/step - loss: 949979188.3055 - mean_squared_error: 949979188.3055\n",
            "Epoch 36/100\n",
            "366/366 [==============================] - 0s 1ms/step - loss: 1435831801.7820 - mean_squared_error: 1435831801.7820\n",
            "Epoch 37/100\n",
            "366/366 [==============================] - 0s 1ms/step - loss: 1528894737.6499 - mean_squared_error: 1528894737.6499\n",
            "Epoch 38/100\n",
            "366/366 [==============================] - 1s 1ms/step - loss: 1707197094.9802 - mean_squared_error: 1707197094.9802\n",
            "Epoch 39/100\n",
            "366/366 [==============================] - 1s 1ms/step - loss: 692508848.9237 - mean_squared_error: 692508848.9237\n",
            "Epoch 40/100\n",
            "366/366 [==============================] - 0s 1ms/step - loss: 1047772665.5940 - mean_squared_error: 1047772665.5940\n",
            "Epoch 41/100\n",
            "366/366 [==============================] - 0s 1ms/step - loss: 459186384.6689 - mean_squared_error: 459186384.6689\n",
            "Epoch 42/100\n",
            "366/366 [==============================] - 0s 1ms/step - loss: 711840568.9373 - mean_squared_error: 711840568.9373\n",
            "Epoch 43/100\n",
            "366/366 [==============================] - 1s 1ms/step - loss: 1208394196.4670 - mean_squared_error: 1208394196.4670\n",
            "Epoch 44/100\n",
            "366/366 [==============================] - 1s 1ms/step - loss: 880619543.6093 - mean_squared_error: 880619543.6093\n",
            "Epoch 45/100\n",
            "366/366 [==============================] - 1s 1ms/step - loss: 234058550.1253 - mean_squared_error: 234058550.1253\n",
            "Epoch 46/100\n",
            "366/366 [==============================] - 0s 1ms/step - loss: 1130369118.8774 - mean_squared_error: 1130369118.8774\n",
            "Epoch 47/100\n",
            "366/366 [==============================] - 0s 1ms/step - loss: 938293038.5954 - mean_squared_error: 938293038.5954\n",
            "Epoch 48/100\n",
            "366/366 [==============================] - 1s 1ms/step - loss: 1068543683.7691 - mean_squared_error: 1068543683.7691\n",
            "Epoch 49/100\n",
            "366/366 [==============================] - 1s 1ms/step - loss: 617267051.7003 - mean_squared_error: 617267051.7003\n",
            "Epoch 50/100\n",
            "366/366 [==============================] - 0s 1ms/step - loss: 795298937.1771 - mean_squared_error: 795298937.1771\n",
            "Epoch 51/100\n",
            "366/366 [==============================] - 1s 1ms/step - loss: 965066083.6785 - mean_squared_error: 965066083.6785\n",
            "Epoch 52/100\n",
            "366/366 [==============================] - 0s 1ms/step - loss: 781145803.5313 - mean_squared_error: 781145803.5313\n",
            "Epoch 53/100\n",
            "366/366 [==============================] - 0s 1ms/step - loss: 366093678.9959 - mean_squared_error: 366093678.9959\n",
            "Epoch 54/100\n",
            "366/366 [==============================] - 1s 1ms/step - loss: 1007292172.4591 - mean_squared_error: 1007292172.4591\n",
            "Epoch 55/100\n",
            "366/366 [==============================] - 0s 1ms/step - loss: 708883442.3392 - mean_squared_error: 708883442.3392\n",
            "Epoch 56/100\n",
            "366/366 [==============================] - 1s 2ms/step - loss: 701692480.3052 - mean_squared_error: 701692480.3052\n",
            "Epoch 57/100\n",
            "366/366 [==============================] - 1s 1ms/step - loss: 739005525.7875 - mean_squared_error: 739005525.7875\n",
            "Epoch 58/100\n",
            "366/366 [==============================] - 1s 1ms/step - loss: 767883680.4210 - mean_squared_error: 767883680.4210\n",
            "Epoch 59/100\n",
            "366/366 [==============================] - 1s 1ms/step - loss: 1161899194.6839 - mean_squared_error: 1161899194.6839\n",
            "Epoch 60/100\n",
            "366/366 [==============================] - 0s 1ms/step - loss: 1085350589.4659 - mean_squared_error: 1085350589.4659\n",
            "Epoch 61/100\n",
            "366/366 [==============================] - 0s 1ms/step - loss: 451509984.9142 - mean_squared_error: 451509984.9142\n",
            "Epoch 62/100\n",
            "366/366 [==============================] - 1s 1ms/step - loss: 431030345.2800 - mean_squared_error: 431030345.2800\n",
            "Epoch 63/100\n",
            "366/366 [==============================] - 0s 1ms/step - loss: 546879446.1689 - mean_squared_error: 546879446.1689\n",
            "Epoch 64/100\n",
            "366/366 [==============================] - 0s 1ms/step - loss: 784277604.5674 - mean_squared_error: 784277604.5674\n",
            "Epoch 65/100\n",
            "366/366 [==============================] - 0s 1ms/step - loss: 438273953.4864 - mean_squared_error: 438273953.4864\n",
            "Epoch 66/100\n",
            "366/366 [==============================] - 0s 1ms/step - loss: 416156149.9183 - mean_squared_error: 416156149.9183\n",
            "Epoch 67/100\n",
            "366/366 [==============================] - 1s 2ms/step - loss: 1024844895.8474 - mean_squared_error: 1024844895.8474\n",
            "Epoch 68/100\n",
            "366/366 [==============================] - 1s 1ms/step - loss: 545412258.9809 - mean_squared_error: 545412258.9809\n",
            "Epoch 69/100\n",
            "366/366 [==============================] - 1s 1ms/step - loss: 358043280.3379 - mean_squared_error: 358043280.3379\n",
            "Epoch 70/100\n",
            "366/366 [==============================] - 1s 1ms/step - loss: 541600563.8045 - mean_squared_error: 541600563.8045\n",
            "Epoch 71/100\n",
            "366/366 [==============================] - 1s 1ms/step - loss: 722868769.4360 - mean_squared_error: 722868769.4360\n",
            "Epoch 72/100\n",
            "366/366 [==============================] - 0s 1ms/step - loss: 502965020.2119 - mean_squared_error: 502965020.2119\n",
            "Epoch 73/100\n",
            "366/366 [==============================] - 1s 1ms/step - loss: 750455089.4387 - mean_squared_error: 750455089.4387\n",
            "Epoch 74/100\n",
            "366/366 [==============================] - 0s 1ms/step - loss: 1500750046.4135 - mean_squared_error: 1500750046.4135\n",
            "Epoch 75/100\n",
            "366/366 [==============================] - 1s 1ms/step - loss: 344277955.3958 - mean_squared_error: 344277955.3958\n",
            "Epoch 76/100\n",
            "366/366 [==============================] - 0s 1ms/step - loss: 544469372.2984 - mean_squared_error: 544469372.2984\n",
            "Epoch 77/100\n",
            "366/366 [==============================] - 0s 1ms/step - loss: 932274729.3243 - mean_squared_error: 932274729.3243\n",
            "Epoch 78/100\n",
            "366/366 [==============================] - 0s 1ms/step - loss: 449532627.2398 - mean_squared_error: 449532627.2398\n",
            "Epoch 79/100\n",
            "366/366 [==============================] - 0s 1ms/step - loss: 759783160.3460 - mean_squared_error: 759783160.3460\n",
            "Epoch 80/100\n",
            "366/366 [==============================] - 0s 1ms/step - loss: 1046469174.4264 - mean_squared_error: 1046469174.4264\n",
            "Epoch 81/100\n",
            "366/366 [==============================] - 1s 1ms/step - loss: 728123388.8828 - mean_squared_error: 728123388.8828\n",
            "Epoch 82/100\n",
            "366/366 [==============================] - 0s 1ms/step - loss: 830357103.1362 - mean_squared_error: 830357103.1362\n",
            "Epoch 83/100\n",
            "366/366 [==============================] - 1s 1ms/step - loss: 404572074.7050 - mean_squared_error: 404572074.7050\n",
            "Epoch 84/100\n",
            "366/366 [==============================] - 0s 1ms/step - loss: 929675794.7875 - mean_squared_error: 929675794.7875\n",
            "Epoch 85/100\n",
            "366/366 [==============================] - 1s 1ms/step - loss: 879988126.1792 - mean_squared_error: 879988126.1792\n",
            "Epoch 86/100\n",
            "366/366 [==============================] - 1s 1ms/step - loss: 444594551.5988 - mean_squared_error: 444594551.5988\n",
            "Epoch 87/100\n",
            "366/366 [==============================] - 0s 1ms/step - loss: 843703827.9946 - mean_squared_error: 843703827.9946\n",
            "Epoch 88/100\n",
            "366/366 [==============================] - 1s 1ms/step - loss: 863873674.0163 - mean_squared_error: 863873674.0163\n",
            "Epoch 89/100\n",
            "366/366 [==============================] - 1s 2ms/step - loss: 1287487842.2800 - mean_squared_error: 1287487842.2800\n",
            "Epoch 90/100\n",
            "366/366 [==============================] - 0s 1ms/step - loss: 441753041.0177 - mean_squared_error: 441753041.0177\n",
            "Epoch 91/100\n",
            "366/366 [==============================] - 1s 2ms/step - loss: 1003654241.0463 - mean_squared_error: 1003654241.0463\n",
            "Epoch 92/100\n",
            "366/366 [==============================] - 1s 1ms/step - loss: 591877918.3304 - mean_squared_error: 591877918.3304\n",
            "Epoch 93/100\n",
            "366/366 [==============================] - 1s 1ms/step - loss: 645661768.5123 - mean_squared_error: 645661768.5123\n",
            "Epoch 94/100\n",
            "366/366 [==============================] - 1s 1ms/step - loss: 416988490.2112 - mean_squared_error: 416988490.2112\n",
            "Epoch 95/100\n",
            "366/366 [==============================] - 0s 1ms/step - loss: 685659222.1117 - mean_squared_error: 685659222.1117\n",
            "Epoch 96/100\n",
            "366/366 [==============================] - 0s 1ms/step - loss: 1058935930.8556 - mean_squared_error: 1058935930.8556\n",
            "Epoch 97/100\n",
            "366/366 [==============================] - 1s 1ms/step - loss: 1336388074.9646 - mean_squared_error: 1336388074.9646\n",
            "Epoch 98/100\n",
            "366/366 [==============================] - 0s 1ms/step - loss: 563874954.3992 - mean_squared_error: 563874954.3992\n",
            "Epoch 99/100\n",
            "366/366 [==============================] - 0s 1ms/step - loss: 439149482.1342 - mean_squared_error: 439149482.1342\n",
            "Epoch 100/100\n",
            "366/366 [==============================] - 1s 1ms/step - loss: 627336620.6975 - mean_squared_error: 627336620.6975\n",
            "Model: \"sequential\"\n",
            "_________________________________________________________________\n",
            "Layer (type)                 Output Shape              Param #   \n",
            "=================================================================\n",
            "dense (Dense)                (None, 6)                 48        \n",
            "_________________________________________________________________\n",
            "dense_1 (Dense)              (None, 6)                 42        \n",
            "_________________________________________________________________\n",
            "dense_2 (Dense)              (None, 1)                 7         \n",
            "=================================================================\n",
            "Total params: 97\n",
            "Trainable params: 97\n",
            "Non-trainable params: 0\n",
            "_________________________________________________________________\n",
            "Mean Absolute Error :  3164.6118952038346\n",
            "Mean Squared Error :  829285938.1976813\n",
            "Root Mean Squared Error :  28797.325191720174\n"
          ],
          "name": "stdout"
        }
      ]
    },
    {
      "cell_type": "code",
      "metadata": {
        "id": "hn1BKmj1T4dF"
      },
      "source": [
        "#Saving Scikitlearn models :\n",
        "joblib.dump(supportvector_regressor, 'SVR_youtubeadview.pkl')\n",
        "#Saving Keras Artificial Neural Network Model :\n",
        "ann.save('ann_youtubeadview.h5')"
      ],
      "execution_count": 26,
      "outputs": []
    },
    {
      "cell_type": "markdown",
      "metadata": {
        "id": "F8h9DXJIUrqz"
      },
      "source": [
        "<br><br>\n",
        "# **Testing**"
      ]
    },
    {
      "cell_type": "code",
      "metadata": {
        "id": "WNec4xBNUoBr"
      },
      "source": [
        "test_path = '/content/test.csv'\n",
        "test_data = pd.read_csv(test_path)"
      ],
      "execution_count": 28,
      "outputs": []
    },
    {
      "cell_type": "code",
      "metadata": {
        "colab": {
          "base_uri": "https://localhost:8080/",
          "height": 203
        },
        "id": "rt4rK8BGwe9j",
        "outputId": "8011bbaf-da66-4030-c6d4-cd0542c5e95c"
      },
      "source": [
        "test_data.head()"
      ],
      "execution_count": 29,
      "outputs": [
        {
          "output_type": "execute_result",
          "data": {
            "text/html": [
              "<div>\n",
              "<style scoped>\n",
              "    .dataframe tbody tr th:only-of-type {\n",
              "        vertical-align: middle;\n",
              "    }\n",
              "\n",
              "    .dataframe tbody tr th {\n",
              "        vertical-align: top;\n",
              "    }\n",
              "\n",
              "    .dataframe thead th {\n",
              "        text-align: right;\n",
              "    }\n",
              "</style>\n",
              "<table border=\"1\" class=\"dataframe\">\n",
              "  <thead>\n",
              "    <tr style=\"text-align: right;\">\n",
              "      <th></th>\n",
              "      <th>vidid</th>\n",
              "      <th>views</th>\n",
              "      <th>likes</th>\n",
              "      <th>dislikes</th>\n",
              "      <th>comment</th>\n",
              "      <th>published</th>\n",
              "      <th>duration</th>\n",
              "      <th>category</th>\n",
              "    </tr>\n",
              "  </thead>\n",
              "  <tbody>\n",
              "    <tr>\n",
              "      <th>0</th>\n",
              "      <td>VID_1054</td>\n",
              "      <td>440238</td>\n",
              "      <td>6153</td>\n",
              "      <td>218</td>\n",
              "      <td>1377</td>\n",
              "      <td>2017-02-18</td>\n",
              "      <td>PT7M29S</td>\n",
              "      <td>B</td>\n",
              "    </tr>\n",
              "    <tr>\n",
              "      <th>1</th>\n",
              "      <td>VID_18629</td>\n",
              "      <td>1040132</td>\n",
              "      <td>8171</td>\n",
              "      <td>340</td>\n",
              "      <td>1047</td>\n",
              "      <td>2016-06-28</td>\n",
              "      <td>PT6M29S</td>\n",
              "      <td>F</td>\n",
              "    </tr>\n",
              "    <tr>\n",
              "      <th>2</th>\n",
              "      <td>VID_13967</td>\n",
              "      <td>28534</td>\n",
              "      <td>31</td>\n",
              "      <td>11</td>\n",
              "      <td>1</td>\n",
              "      <td>2014-03-10</td>\n",
              "      <td>PT37M54S</td>\n",
              "      <td>D</td>\n",
              "    </tr>\n",
              "    <tr>\n",
              "      <th>3</th>\n",
              "      <td>VID_19442</td>\n",
              "      <td>1316715</td>\n",
              "      <td>2284</td>\n",
              "      <td>250</td>\n",
              "      <td>274</td>\n",
              "      <td>2010-06-05</td>\n",
              "      <td>PT9M55S</td>\n",
              "      <td>G</td>\n",
              "    </tr>\n",
              "    <tr>\n",
              "      <th>4</th>\n",
              "      <td>VID_770</td>\n",
              "      <td>1893173</td>\n",
              "      <td>2519</td>\n",
              "      <td>225</td>\n",
              "      <td>116</td>\n",
              "      <td>2016-09-03</td>\n",
              "      <td>PT3M8S</td>\n",
              "      <td>B</td>\n",
              "    </tr>\n",
              "  </tbody>\n",
              "</table>\n",
              "</div>"
            ],
            "text/plain": [
              "       vidid    views likes dislikes comment   published  duration category\n",
              "0   VID_1054   440238  6153      218    1377  2017-02-18   PT7M29S        B\n",
              "1  VID_18629  1040132  8171      340    1047  2016-06-28   PT6M29S        F\n",
              "2  VID_13967    28534    31       11       1  2014-03-10  PT37M54S        D\n",
              "3  VID_19442  1316715  2284      250     274  2010-06-05   PT9M55S        G\n",
              "4    VID_770  1893173  2519      225     116  2016-09-03    PT3M8S        B"
            ]
          },
          "metadata": {
            "tags": []
          },
          "execution_count": 29
        }
      ]
    },
    {
      "cell_type": "code",
      "metadata": {
        "colab": {
          "base_uri": "https://localhost:8080/"
        },
        "id": "BvHpRIPhwwmE",
        "outputId": "ea3d172d-22a4-42bf-8a98-fe381b57be64"
      },
      "source": [
        "test_data.shape"
      ],
      "execution_count": 30,
      "outputs": [
        {
          "output_type": "execute_result",
          "data": {
            "text/plain": [
              "(8764, 8)"
            ]
          },
          "metadata": {
            "tags": []
          },
          "execution_count": 30
        }
      ]
    },
    {
      "cell_type": "code",
      "metadata": {
        "colab": {
          "base_uri": "https://localhost:8080/"
        },
        "id": "5BkceQVnwu1G",
        "outputId": "d29f05a9-b7aa-453f-90c9-4a7b4773b6fa"
      },
      "source": [
        "#Removing character 'F' present in the data :\n",
        "test_data = test_data[test_data.views != 'F']\n",
        "test_data = test_data[test_data.likes != 'F']\n",
        "test_data = test_data[test_data.dislikes != 'F']\n",
        "test_data = test_data[test_data.comment != 'F']\n",
        "\n",
        "test_data.shape"
      ],
      "execution_count": 31,
      "outputs": [
        {
          "output_type": "execute_result",
          "data": {
            "text/plain": [
              "(8549, 8)"
            ]
          },
          "metadata": {
            "tags": []
          },
          "execution_count": 31
        }
      ]
    },
    {
      "cell_type": "code",
      "metadata": {
        "colab": {
          "base_uri": "https://localhost:8080/",
          "height": 203
        },
        "id": "jvZPJw1yxJxz",
        "outputId": "49ac04e6-37ba-4fcf-90b5-ff6395275e4d"
      },
      "source": [
        "#Assigning each category to a number for 'category' feature :\n",
        "category = {'A' : 1, 'B' : 2, 'C' : 3, 'D' : 4, 'E' : 5, 'F' : 6, 'G' : 7, 'H' : 8}\n",
        "test_data['category'] = test_data['category'].map(category)\n",
        "\n",
        "test_data.head()"
      ],
      "execution_count": 32,
      "outputs": [
        {
          "output_type": "execute_result",
          "data": {
            "text/html": [
              "<div>\n",
              "<style scoped>\n",
              "    .dataframe tbody tr th:only-of-type {\n",
              "        vertical-align: middle;\n",
              "    }\n",
              "\n",
              "    .dataframe tbody tr th {\n",
              "        vertical-align: top;\n",
              "    }\n",
              "\n",
              "    .dataframe thead th {\n",
              "        text-align: right;\n",
              "    }\n",
              "</style>\n",
              "<table border=\"1\" class=\"dataframe\">\n",
              "  <thead>\n",
              "    <tr style=\"text-align: right;\">\n",
              "      <th></th>\n",
              "      <th>vidid</th>\n",
              "      <th>views</th>\n",
              "      <th>likes</th>\n",
              "      <th>dislikes</th>\n",
              "      <th>comment</th>\n",
              "      <th>published</th>\n",
              "      <th>duration</th>\n",
              "      <th>category</th>\n",
              "    </tr>\n",
              "  </thead>\n",
              "  <tbody>\n",
              "    <tr>\n",
              "      <th>0</th>\n",
              "      <td>VID_1054</td>\n",
              "      <td>440238</td>\n",
              "      <td>6153</td>\n",
              "      <td>218</td>\n",
              "      <td>1377</td>\n",
              "      <td>2017-02-18</td>\n",
              "      <td>PT7M29S</td>\n",
              "      <td>2</td>\n",
              "    </tr>\n",
              "    <tr>\n",
              "      <th>1</th>\n",
              "      <td>VID_18629</td>\n",
              "      <td>1040132</td>\n",
              "      <td>8171</td>\n",
              "      <td>340</td>\n",
              "      <td>1047</td>\n",
              "      <td>2016-06-28</td>\n",
              "      <td>PT6M29S</td>\n",
              "      <td>6</td>\n",
              "    </tr>\n",
              "    <tr>\n",
              "      <th>2</th>\n",
              "      <td>VID_13967</td>\n",
              "      <td>28534</td>\n",
              "      <td>31</td>\n",
              "      <td>11</td>\n",
              "      <td>1</td>\n",
              "      <td>2014-03-10</td>\n",
              "      <td>PT37M54S</td>\n",
              "      <td>4</td>\n",
              "    </tr>\n",
              "    <tr>\n",
              "      <th>3</th>\n",
              "      <td>VID_19442</td>\n",
              "      <td>1316715</td>\n",
              "      <td>2284</td>\n",
              "      <td>250</td>\n",
              "      <td>274</td>\n",
              "      <td>2010-06-05</td>\n",
              "      <td>PT9M55S</td>\n",
              "      <td>7</td>\n",
              "    </tr>\n",
              "    <tr>\n",
              "      <th>4</th>\n",
              "      <td>VID_770</td>\n",
              "      <td>1893173</td>\n",
              "      <td>2519</td>\n",
              "      <td>225</td>\n",
              "      <td>116</td>\n",
              "      <td>2016-09-03</td>\n",
              "      <td>PT3M8S</td>\n",
              "      <td>2</td>\n",
              "    </tr>\n",
              "  </tbody>\n",
              "</table>\n",
              "</div>"
            ],
            "text/plain": [
              "       vidid    views likes dislikes comment   published  duration  category\n",
              "0   VID_1054   440238  6153      218    1377  2017-02-18   PT7M29S         2\n",
              "1  VID_18629  1040132  8171      340    1047  2016-06-28   PT6M29S         6\n",
              "2  VID_13967    28534    31       11       1  2014-03-10  PT37M54S         4\n",
              "3  VID_19442  1316715  2284      250     274  2010-06-05   PT9M55S         7\n",
              "4    VID_770  1893173  2519      225     116  2016-09-03    PT3M8S         2"
            ]
          },
          "metadata": {
            "tags": []
          },
          "execution_count": 32
        }
      ]
    },
    {
      "cell_type": "code",
      "metadata": {
        "colab": {
          "base_uri": "https://localhost:8080/"
        },
        "id": "DLNq4DywxvU6",
        "outputId": "cedb23b6-c31f-45a6-fcd4-5e7373b8b214"
      },
      "source": [
        "#Converting values to integers for views, likes, comments, dislkes and adview :\n",
        "test_data['views'] = pd.to_numeric(test_data['views'])\n",
        "test_data['likes'] = pd.to_numeric(test_data['likes'])\n",
        "test_data['dislikes'] = pd.to_numeric(test_data['dislikes'])\n",
        "test_data['comment'] = pd.to_numeric(test_data['comment'])\n",
        "\n",
        "#Extracting the 'vidid' column from test_data and storing in vidid_column :\n",
        "vidid_column = test_data['vidid']\n",
        "vidid_column"
      ],
      "execution_count": 33,
      "outputs": [
        {
          "output_type": "execute_result",
          "data": {
            "text/plain": [
              "0        VID_1054\n",
              "1       VID_18629\n",
              "2       VID_13967\n",
              "3       VID_19442\n",
              "4         VID_770\n",
              "          ...    \n",
              "8759     VID_2944\n",
              "8760     VID_8195\n",
              "8761    VID_18973\n",
              "8762     VID_5849\n",
              "8763     VID_8494\n",
              "Name: vidid, Length: 8549, dtype: object"
            ]
          },
          "metadata": {
            "tags": []
          },
          "execution_count": 33
        }
      ]
    },
    {
      "cell_type": "code",
      "metadata": {
        "colab": {
          "base_uri": "https://localhost:8080/",
          "height": 203
        },
        "id": "rBdM3Y4V3FGJ",
        "outputId": "9f5c38eb-6cc7-484c-8277-53903b68197b"
      },
      "source": [
        "#Encoding features like 'duration', 'vidid' and 'published' :\n",
        "test_data['duration'] = LabelEncoder().fit_transform(test_data['duration'])\n",
        "test_data['vidid'] = LabelEncoder().fit_transform(test_data['vidid'])\n",
        "test_data['published'] = LabelEncoder().fit_transform(test_data['published'])\n",
        "\n",
        "test_data.head()"
      ],
      "execution_count": 34,
      "outputs": [
        {
          "output_type": "execute_result",
          "data": {
            "text/html": [
              "<div>\n",
              "<style scoped>\n",
              "    .dataframe tbody tr th:only-of-type {\n",
              "        vertical-align: middle;\n",
              "    }\n",
              "\n",
              "    .dataframe tbody tr th {\n",
              "        vertical-align: top;\n",
              "    }\n",
              "\n",
              "    .dataframe thead th {\n",
              "        text-align: right;\n",
              "    }\n",
              "</style>\n",
              "<table border=\"1\" class=\"dataframe\">\n",
              "  <thead>\n",
              "    <tr style=\"text-align: right;\">\n",
              "      <th></th>\n",
              "      <th>vidid</th>\n",
              "      <th>views</th>\n",
              "      <th>likes</th>\n",
              "      <th>dislikes</th>\n",
              "      <th>comment</th>\n",
              "      <th>published</th>\n",
              "      <th>duration</th>\n",
              "      <th>category</th>\n",
              "    </tr>\n",
              "  </thead>\n",
              "  <tbody>\n",
              "    <tr>\n",
              "      <th>0</th>\n",
              "      <td>231</td>\n",
              "      <td>440238</td>\n",
              "      <td>6153</td>\n",
              "      <td>218</td>\n",
              "      <td>1377</td>\n",
              "      <td>2053</td>\n",
              "      <td>2115</td>\n",
              "      <td>2</td>\n",
              "    </tr>\n",
              "    <tr>\n",
              "      <th>1</th>\n",
              "      <td>3444</td>\n",
              "      <td>1040132</td>\n",
              "      <td>8171</td>\n",
              "      <td>340</td>\n",
              "      <td>1047</td>\n",
              "      <td>1825</td>\n",
              "      <td>2055</td>\n",
              "      <td>6</td>\n",
              "    </tr>\n",
              "    <tr>\n",
              "      <th>2</th>\n",
              "      <td>1593</td>\n",
              "      <td>28534</td>\n",
              "      <td>31</td>\n",
              "      <td>11</td>\n",
              "      <td>1</td>\n",
              "      <td>1009</td>\n",
              "      <td>1506</td>\n",
              "      <td>4</td>\n",
              "    </tr>\n",
              "    <tr>\n",
              "      <th>3</th>\n",
              "      <td>3775</td>\n",
              "      <td>1316715</td>\n",
              "      <td>2284</td>\n",
              "      <td>250</td>\n",
              "      <td>274</td>\n",
              "      <td>116</td>\n",
              "      <td>2265</td>\n",
              "      <td>7</td>\n",
              "    </tr>\n",
              "    <tr>\n",
              "      <th>4</th>\n",
              "      <td>7644</td>\n",
              "      <td>1893173</td>\n",
              "      <td>2519</td>\n",
              "      <td>225</td>\n",
              "      <td>116</td>\n",
              "      <td>1892</td>\n",
              "      <td>1625</td>\n",
              "      <td>2</td>\n",
              "    </tr>\n",
              "  </tbody>\n",
              "</table>\n",
              "</div>"
            ],
            "text/plain": [
              "   vidid    views  likes  dislikes  comment  published  duration  category\n",
              "0    231   440238   6153       218     1377       2053      2115         2\n",
              "1   3444  1040132   8171       340     1047       1825      2055         6\n",
              "2   1593    28534     31        11        1       1009      1506         4\n",
              "3   3775  1316715   2284       250      274        116      2265         7\n",
              "4   7644  1893173   2519       225      116       1892      1625         2"
            ]
          },
          "metadata": {
            "tags": []
          },
          "execution_count": 34
        }
      ]
    },
    {
      "cell_type": "code",
      "metadata": {
        "colab": {
          "base_uri": "https://localhost:8080/",
          "height": 203
        },
        "id": "xaNUN0riA-1f",
        "outputId": "9d4673df-8091-4575-fea0-8efdc361a2cd"
      },
      "source": [
        "#Converting time to seconds under 'duration' column :\n",
        "\n",
        "test = pd.read_csv('test.csv')\n",
        "mp = pd.read_csv(test_path)['duration']\n",
        "time = mp.apply(checki)\n",
        "\n",
        "time1 = time.apply(func_sec)\n",
        "\n",
        "test_data['duration'] = time1\n",
        "test_data.head()"
      ],
      "execution_count": 35,
      "outputs": [
        {
          "output_type": "execute_result",
          "data": {
            "text/html": [
              "<div>\n",
              "<style scoped>\n",
              "    .dataframe tbody tr th:only-of-type {\n",
              "        vertical-align: middle;\n",
              "    }\n",
              "\n",
              "    .dataframe tbody tr th {\n",
              "        vertical-align: top;\n",
              "    }\n",
              "\n",
              "    .dataframe thead th {\n",
              "        text-align: right;\n",
              "    }\n",
              "</style>\n",
              "<table border=\"1\" class=\"dataframe\">\n",
              "  <thead>\n",
              "    <tr style=\"text-align: right;\">\n",
              "      <th></th>\n",
              "      <th>vidid</th>\n",
              "      <th>views</th>\n",
              "      <th>likes</th>\n",
              "      <th>dislikes</th>\n",
              "      <th>comment</th>\n",
              "      <th>published</th>\n",
              "      <th>duration</th>\n",
              "      <th>category</th>\n",
              "    </tr>\n",
              "  </thead>\n",
              "  <tbody>\n",
              "    <tr>\n",
              "      <th>0</th>\n",
              "      <td>231</td>\n",
              "      <td>440238</td>\n",
              "      <td>6153</td>\n",
              "      <td>218</td>\n",
              "      <td>1377</td>\n",
              "      <td>2053</td>\n",
              "      <td>449</td>\n",
              "      <td>2</td>\n",
              "    </tr>\n",
              "    <tr>\n",
              "      <th>1</th>\n",
              "      <td>3444</td>\n",
              "      <td>1040132</td>\n",
              "      <td>8171</td>\n",
              "      <td>340</td>\n",
              "      <td>1047</td>\n",
              "      <td>1825</td>\n",
              "      <td>389</td>\n",
              "      <td>6</td>\n",
              "    </tr>\n",
              "    <tr>\n",
              "      <th>2</th>\n",
              "      <td>1593</td>\n",
              "      <td>28534</td>\n",
              "      <td>31</td>\n",
              "      <td>11</td>\n",
              "      <td>1</td>\n",
              "      <td>1009</td>\n",
              "      <td>2274</td>\n",
              "      <td>4</td>\n",
              "    </tr>\n",
              "    <tr>\n",
              "      <th>3</th>\n",
              "      <td>3775</td>\n",
              "      <td>1316715</td>\n",
              "      <td>2284</td>\n",
              "      <td>250</td>\n",
              "      <td>274</td>\n",
              "      <td>116</td>\n",
              "      <td>595</td>\n",
              "      <td>7</td>\n",
              "    </tr>\n",
              "    <tr>\n",
              "      <th>4</th>\n",
              "      <td>7644</td>\n",
              "      <td>1893173</td>\n",
              "      <td>2519</td>\n",
              "      <td>225</td>\n",
              "      <td>116</td>\n",
              "      <td>1892</td>\n",
              "      <td>188</td>\n",
              "      <td>2</td>\n",
              "    </tr>\n",
              "  </tbody>\n",
              "</table>\n",
              "</div>"
            ],
            "text/plain": [
              "   vidid    views  likes  dislikes  comment  published  duration  category\n",
              "0    231   440238   6153       218     1377       2053       449         2\n",
              "1   3444  1040132   8171       340     1047       1825       389         6\n",
              "2   1593    28534     31        11        1       1009      2274         4\n",
              "3   3775  1316715   2284       250      274        116       595         7\n",
              "4   7644  1893173   2519       225      116       1892       188         2"
            ]
          },
          "metadata": {
            "tags": []
          },
          "execution_count": 35
        }
      ]
    },
    {
      "cell_type": "code",
      "metadata": {
        "colab": {
          "base_uri": "https://localhost:8080/",
          "height": 203
        },
        "id": "Hzp9vcu0Bnw2",
        "outputId": "f2d1eb4b-7984-4e89-d24b-3d6b2e3b2636"
      },
      "source": [
        "test_data = test_data.drop(['vidid'], axis = 1)\n",
        "test_data.head()"
      ],
      "execution_count": 36,
      "outputs": [
        {
          "output_type": "execute_result",
          "data": {
            "text/html": [
              "<div>\n",
              "<style scoped>\n",
              "    .dataframe tbody tr th:only-of-type {\n",
              "        vertical-align: middle;\n",
              "    }\n",
              "\n",
              "    .dataframe tbody tr th {\n",
              "        vertical-align: top;\n",
              "    }\n",
              "\n",
              "    .dataframe thead th {\n",
              "        text-align: right;\n",
              "    }\n",
              "</style>\n",
              "<table border=\"1\" class=\"dataframe\">\n",
              "  <thead>\n",
              "    <tr style=\"text-align: right;\">\n",
              "      <th></th>\n",
              "      <th>views</th>\n",
              "      <th>likes</th>\n",
              "      <th>dislikes</th>\n",
              "      <th>comment</th>\n",
              "      <th>published</th>\n",
              "      <th>duration</th>\n",
              "      <th>category</th>\n",
              "    </tr>\n",
              "  </thead>\n",
              "  <tbody>\n",
              "    <tr>\n",
              "      <th>0</th>\n",
              "      <td>440238</td>\n",
              "      <td>6153</td>\n",
              "      <td>218</td>\n",
              "      <td>1377</td>\n",
              "      <td>2053</td>\n",
              "      <td>449</td>\n",
              "      <td>2</td>\n",
              "    </tr>\n",
              "    <tr>\n",
              "      <th>1</th>\n",
              "      <td>1040132</td>\n",
              "      <td>8171</td>\n",
              "      <td>340</td>\n",
              "      <td>1047</td>\n",
              "      <td>1825</td>\n",
              "      <td>389</td>\n",
              "      <td>6</td>\n",
              "    </tr>\n",
              "    <tr>\n",
              "      <th>2</th>\n",
              "      <td>28534</td>\n",
              "      <td>31</td>\n",
              "      <td>11</td>\n",
              "      <td>1</td>\n",
              "      <td>1009</td>\n",
              "      <td>2274</td>\n",
              "      <td>4</td>\n",
              "    </tr>\n",
              "    <tr>\n",
              "      <th>3</th>\n",
              "      <td>1316715</td>\n",
              "      <td>2284</td>\n",
              "      <td>250</td>\n",
              "      <td>274</td>\n",
              "      <td>116</td>\n",
              "      <td>595</td>\n",
              "      <td>7</td>\n",
              "    </tr>\n",
              "    <tr>\n",
              "      <th>4</th>\n",
              "      <td>1893173</td>\n",
              "      <td>2519</td>\n",
              "      <td>225</td>\n",
              "      <td>116</td>\n",
              "      <td>1892</td>\n",
              "      <td>188</td>\n",
              "      <td>2</td>\n",
              "    </tr>\n",
              "  </tbody>\n",
              "</table>\n",
              "</div>"
            ],
            "text/plain": [
              "     views  likes  dislikes  comment  published  duration  category\n",
              "0   440238   6153       218     1377       2053       449         2\n",
              "1  1040132   8171       340     1047       1825       389         6\n",
              "2    28534     31        11        1       1009      2274         4\n",
              "3  1316715   2284       250      274        116       595         7\n",
              "4  1893173   2519       225      116       1892       188         2"
            ]
          },
          "metadata": {
            "tags": []
          },
          "execution_count": 36
        }
      ]
    },
    {
      "cell_type": "code",
      "metadata": {
        "id": "BYUwpJlmByeE"
      },
      "source": [
        "#Normalising Data :\n",
        "scaler = MinMaxScaler()\n",
        "X_test = test_data\n",
        "X_test = scaler.fit_transform(X_test)"
      ],
      "execution_count": 37,
      "outputs": []
    },
    {
      "cell_type": "code",
      "metadata": {
        "id": "3jiJ85PRMstH"
      },
      "source": [
        "#Model selection : Support Vector Regressor Model since this model gave the least Mean Absolute Error\n",
        "model = supportvector_regressor"
      ],
      "execution_count": 38,
      "outputs": []
    },
    {
      "cell_type": "code",
      "metadata": {
        "id": "oLN3f38YB-Sc"
      },
      "source": [
        "#Performing Prediction on test data :\n",
        "prediction = model.predict(X_test)"
      ],
      "execution_count": 39,
      "outputs": []
    },
    {
      "cell_type": "code",
      "metadata": {
        "colab": {
          "base_uri": "https://localhost:8080/"
        },
        "id": "QvgfN3sYCE4G",
        "outputId": "535dfd8e-3364-4f12-c3a4-abdf4cc74656"
      },
      "source": [
        "#Converting the prediction into a Dataframe : \n",
        "prediction = pd.DataFrame(prediction)\n",
        "prediction.info()"
      ],
      "execution_count": 40,
      "outputs": [
        {
          "output_type": "stream",
          "text": [
            "<class 'pandas.core.frame.DataFrame'>\n",
            "RangeIndex: 8549 entries, 0 to 8548\n",
            "Data columns (total 1 columns):\n",
            " #   Column  Non-Null Count  Dtype  \n",
            "---  ------  --------------  -----  \n",
            " 0   0       8549 non-null   float64\n",
            "dtypes: float64(1)\n",
            "memory usage: 66.9 KB\n"
          ],
          "name": "stdout"
        }
      ]
    },
    {
      "cell_type": "code",
      "metadata": {
        "colab": {
          "base_uri": "https://localhost:8080/",
          "height": 203
        },
        "id": "1XHF2ELkCOkr",
        "outputId": "4608dd2e-aa51-4bce-b16d-1e68eff09aa8"
      },
      "source": [
        "#Renaming the column to 'adview' :\n",
        "prediction = prediction.rename(columns = {0 : 'adview'})\n",
        "prediction.head()"
      ],
      "execution_count": 41,
      "outputs": [
        {
          "output_type": "execute_result",
          "data": {
            "text/html": [
              "<div>\n",
              "<style scoped>\n",
              "    .dataframe tbody tr th:only-of-type {\n",
              "        vertical-align: middle;\n",
              "    }\n",
              "\n",
              "    .dataframe tbody tr th {\n",
              "        vertical-align: top;\n",
              "    }\n",
              "\n",
              "    .dataframe thead th {\n",
              "        text-align: right;\n",
              "    }\n",
              "</style>\n",
              "<table border=\"1\" class=\"dataframe\">\n",
              "  <thead>\n",
              "    <tr style=\"text-align: right;\">\n",
              "      <th></th>\n",
              "      <th>adview</th>\n",
              "    </tr>\n",
              "  </thead>\n",
              "  <tbody>\n",
              "    <tr>\n",
              "      <th>0</th>\n",
              "      <td>2.655214</td>\n",
              "    </tr>\n",
              "    <tr>\n",
              "      <th>1</th>\n",
              "      <td>2.402158</td>\n",
              "    </tr>\n",
              "    <tr>\n",
              "      <th>2</th>\n",
              "      <td>2.059470</td>\n",
              "    </tr>\n",
              "    <tr>\n",
              "      <th>3</th>\n",
              "      <td>2.284217</td>\n",
              "    </tr>\n",
              "    <tr>\n",
              "      <th>4</th>\n",
              "      <td>2.284820</td>\n",
              "    </tr>\n",
              "  </tbody>\n",
              "</table>\n",
              "</div>"
            ],
            "text/plain": [
              "     adview\n",
              "0  2.655214\n",
              "1  2.402158\n",
              "2  2.059470\n",
              "3  2.284217\n",
              "4  2.284820"
            ]
          },
          "metadata": {
            "tags": []
          },
          "execution_count": 41
        }
      ]
    },
    {
      "cell_type": "code",
      "metadata": {
        "id": "EhJkOBRMCcHS"
      },
      "source": [
        "#Saving the prediction Dataframe in a new .csv FIle -> 'prediction.csv' :\n",
        "prediction.to_csv('PredictedAdview.csv')"
      ],
      "execution_count": 42,
      "outputs": []
    }
  ]
}